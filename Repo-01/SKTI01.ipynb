{
 "cells": [
  {
   "cell_type": "markdown",
   "metadata": {},
   "source": [
    "Import Library dan Baca JSON"
   ]
  },
  {
   "cell_type": "code",
   "execution_count": 5,
   "metadata": {},
   "outputs": [
    {
     "name": "stdout",
     "output_type": "stream",
     "text": [
      "<class 'dict'>\n",
      "dict_keys(['url', 'date', 'title', 'content'])\n"
     ]
    }
   ],
   "source": [
    "import pandas as pd\n",
    "import json\n",
    "import re\n",
    "import string\n",
    "import nltk\n",
    "#nltk.download('punkt')\n",
    "from nltk.tokenize import word_tokenize\n",
    "from Sastrawi.StopWordRemover.StopWordRemoverFactory import StopWordRemoverFactory\n",
    "# Import data JSON\n",
    "json_file_path = '1524416400000.kompas.e81873f891.json'\n",
    "\n",
    "\n",
    "# Read JSON data\n",
    "with open(json_file_path, \"r\", encoding='utf-8') as json_file:\n",
    "    data = json.load(json_file)\n",
    "\n",
    "# Lihat tipe data & data keys\n",
    "print(type(data))\n",
    "print(data.keys())\n",
    "\n"
   ]
  },
  {
   "cell_type": "markdown",
   "metadata": {},
   "source": [
    "Lakukan Preprocessing Data (belum stemming)"
   ]
  },
  {
   "cell_type": "code",
   "execution_count": 8,
   "metadata": {},
   "outputs": [
    {
     "name": "stdout",
     "output_type": "stream",
     "text": [
      "<class 'list'>\n",
      "[('properti', 17), ('rumah', 14), ('membeli', 12), ('investasi', 8), ('harga', 7), ('milenial', 6), ('generasi', 6), ('produk', 6), ('pengembang', 5), ('jakarta', 4), ('merupakan', 4), ('tidak', 4), ('mempunyai', 3), ('teknologi', 3), ('berinvestasi', 3), ('kadin', 3), ('indonesia', 3), ('penting', 3), ('ribet', 3), ('butuh', 3), ('besar', 3), ('kenaikan', 3), ('lebih', 3), ('salah', 3), ('tahun', 3), ('ini', 3), ('informasi', 3), ('yang', 3), ('hidup', 3), ('sangat', 2), ('melihat', 2), ('banyak', 2), ('bidang', 2), ('hendro', 2), ('perkembangan', 2), ('perbankan', 2), ('memang', 2), ('beberapa', 2), ('lain', 2), ('sebagainya', 2), ('karena', 2), ('melalui', 2), ('membuat', 2), ('modal', 2), ('sama', 2), ('lainnya', 2), ('pilihan', 2), ('skema', 2), ('pembiayaan', 2), ('dilakukan', 2), ('harganya', 2), ('terjangkau', 2), ('menjadi', 2), ('uang', 2), ('sebuah', 2), ('thinkstockphotoscom', 2), ('satu', 2), ('rp', 2), ('juta', 2), ('harus', 2), ('dapat', 2), ('dijadikan', 2), ('takut', 2), ('bank', 2), ('juga', 2), ('berbagai', 2), ('macam', 2), ('mudah', 2), ('dengan', 2), ('internet', 2), ('masih', 2), ('di', 2), ('bukan', 2), ('kebutuhan', 2), ('utama', 2), ('tinggal', 2), ('kompasom', 1), ('terminologi', 1), ('mengacu', 1), ('kelahiran', 1), ('an', 1), ('melek', 1), ('keterikatan', 1), ('tinggi', 1), ('sisi', 1), ('pentingnya', 1), ('khususnya', 1), ('alasan', 1), ('melatarbelakangi', 1), ('keengganan', 1), ('wakil', 1), ('ketua', 1), ('umum', 1), ('s', 1), ('gondokusumo', 1), ('mengatakan', 1), ('kencenderungan', 1), ('menganggap', 1), ('padahal', 1), ('seiring', 1), ('inovasi', 1), ('kalangan', 1), ('bukanlah', 1), ('misi', 1), ('mustahil', 1), ('mengakui', 1), ('tantangan', 1), ('dihadapi', 1), ('yakni', 1), ('proses', 1), ('dana', 1), ('mencoba', 1), ('menjawab', 1), ('sejumlah', 1), ('mitos', 1), ('acara', 1), ('ngobrol', 1), ('bareng', 1), ('tema', 1), ('“', 1), ('kapan', 1), ('beli', 1), ('”', 1), ('hari', 1), ('kamis', 1), ('april', 1), ('promenade', 1), ('graha', 1), ('niaga', 1), ('thamrin', 1), ('pusat', 1), ('apartementtherapy', 1), ('menelisik', 1), ('enam', 1), ('ogah', 1), ('cepat', 1), ('ketimbang', 1), ('penghasilan', 1), ('sepenuhnya', 1), ('terpenting', 1), ('rencana', 1), ('keuangan', 1), ('tepat', 1), ('memiliki', 1), ('diidamkan', 1), ('disadari', 1), ('berbeda', 1), ('dibandingkan', 1), ('pinggiran', 1), ('pemerintah', 1), ('menyediakan', 1), ('pilihanpilihan', 1), ('dijangkau', 1), ('program', 1), ('sejuta', 1), ('transit', 1), ('oriented', 1), ('development', 1), ('tod', 1), ('stasiun', 1), ('kereta', 1), ('listrik', 1), ('maupun', 1), ('mrt', 1), ('sesuai', 1), ('jenis', 1), ('likuid', 1), ('segera', 1), ('diubah', 1), ('kas', 1), ('waktu', 1), ('mesin', 1), ('mempertimbangkan', 1), ('lokasinya', 1), ('pasar', 1), ('tergolong', 1), ('aman', 1), ('cenderung', 1), ('stabil', 1), ('dibeli', 1), ('mencapai', 1), ('naik', 1), ('persen', 1), ('diingat', 1), ('diletakkan', 1), ('konteks', 1), ('jangka', 1), ('panjang', 1), ('hanya', 1), ('diartikan', 1), ('lalu', 1), ('menjualnya', 1), ('mahal', 1), ('dilihat', 1), ('menghasilkan', 1), ('pendapatan', 1), ('berkelanjutan', 1), ('disewakan', 1), ('koskosan', 1), ('mengikuti', 1), ('saat', 1), ('penginapan', 1), ('berhutang', 1), ('risiko', 1), ('keuntungan', 1), ('ditawarkan', 1), ('setiap', 1), ('selama', 1), ('gaji', 1), ('ketakutan', 1), ('membayar', 1), ('kecemasan', 1), ('berasalan', 1), ('memulai', 1), ('usaha', 1), ('membutuhkan', 1), ('itu', 1), ('salahnya', 1), ('mengandalkan', 1), ('jasa', 1), ('kpr', 1), ('kpa', 1), ('prosesnya', 1), ('zaman', 1), ('sekarang', 1), ('seharusnya', 1), ('kehidupan', 1), ('para', 1), ('umumnya', 1), ('memfasilitasi', 1), ('pengurusan', 1), ('dokumen', 1), ('pembelian', 1), ('ditipu', 1), ('menghindari', 1), ('penipuan', 1), ('memperbanyak', 1), ('shutterstock', 1), ('memutuskan', 1), ('pastikan', 1), ('mengetahui', 1), ('konsekuensi', 1), ('terburuk', 1), ('jangan', 1), ('tergiur', 1), ('imingiming', 1), ('janjijanji', 1), ('jelas', 1), ('unit', 1), ('terlampau', 1), ('murah', 1), ('diskon', 1), ('besarbesaran', 1), ('bisa', 1), ('didapatkan', 1), ('kalau', 1), ('bingung', 1), ('beredar', 1), ('datangi', 1), ('bersangkutan', 1), ('langsung', 1), ('prinsip', 1), ('yolo', 1), ('you', 1), ('only', 1), ('live', 1), ('once', 1), ('punya', 1), ('dirasakan', 1), ('sebagian', 1), ('adalah', 1), ('gaya', 1), ('fashion', 1), ('fb', 1), ('traveling', 1), ('pendidikan', 1), ('komunitas', 1), ('wwwshutterstockcom', 1), ('tempat', 1), ('kemungkinan', 1), ('ada', 1), ('urutan', 1), ('buncit', 1), ('diwujudkan', 1), ('cuma', 1), ('sekali', 1), ('mempersiapkan', 1), ('nyaman', 1), ('dimulai', 1), ('sedini', 1), ('mungkin', 1), ('mau', 1), ('kan', 1), ('umur', 1), ('menikah', 1), ('bersama', 1), ('orang', 1), ('tua', 1)]\n"
     ]
    }
   ],
   "source": [
    "#Ambil content & seragamkan jadi lower case\n",
    "str_data = data['content'].lower()\n",
    "\n",
    "#Hapus angka\n",
    "hasil = re.sub(r\"\\d+\", \"\", str_data)\n",
    "\n",
    "#Hilangkan tanda baca\n",
    "hasil_tb = hasil.translate(str.maketrans(\"\",\"\",string.punctuation))\n",
    "\n",
    "#Hapus karakter kosong\n",
    "hasil_kk = hasil_tb.strip()\n",
    "\n",
    "#Tokenisasi tiap Kata\n",
    "##\n",
    "factory = StopWordRemoverFactory()\n",
    "stopword = factory.create_stop_word_remover()\n",
    "\n",
    "stop = stopword.remove(hasil_kk)\n",
    "tokens = nltk.tokenize.word_tokenize(stop)\n",
    "tokens\n",
    "print(type(tokens))\n",
    "\n",
    "unStemmed = nltk.FreqDist(tokens)\n",
    "print(unStemmed.most_common())"
   ]
  },
  {
   "cell_type": "markdown",
   "metadata": {},
   "source": [
    "Lakukan Stemming"
   ]
  },
  {
   "cell_type": "code",
   "execution_count": 7,
   "metadata": {},
   "outputs": [
    {
     "name": "stdout",
     "output_type": "stream",
     "text": [
      "<class 'list'>\n",
      "[('properti', 17), ('beli', 15), ('rumah', 14), ('investasi', 11), ('harga', 9), ('kembang', 7), ('milenial', 6), ('generasi', 6), ('produk', 6), ('butuh', 6), ('bagai', 6), ('penting', 5), ('jakarta', 4), ('rupa', 4), ('punya', 4), ('naik', 4), ('salah', 4), ('jadi', 4), ('tidak', 4), ('hidup', 4), ('teknologi', 3), ('lihat', 3), ('banyak', 3), ('kadin', 3), ('indonesia', 3), ('bukan', 3), ('ribet', 3), ('besar', 3), ('lalu', 3), ('lebih', 3), ('sama', 3), ('uang', 3), ('jangkau', 3), ('juta', 3), ('tahun', 3), ('ini', 3), ('harus', 3), ('dapat', 3), ('takut', 3), ('informasi', 3), ('yang', 3), ('sangat', 2), ('hadap', 2), ('umum', 2), ('bidang', 2), ('hendro', 2), ('perban', 2), ('memang', 2), ('beberapa', 2), ('proses', 2), ('karena', 2), ('buat', 2), ('modal', 2), ('hasil', 2), ('pilih', 2), ('skema', 2), ('biaya', 2), ('laku', 2), ('tiap', 2), ('buah', 2), ('thinkstockphotoscom', 2), ('satu', 2), ('rp', 2), ('bank', 2), ('mulai', 2), ('juga', 2), ('lain', 2), ('macam', 2), ('tipu', 2), ('mudah', 2), ('dengan', 2), ('internet', 2), ('masih', 2), ('di', 2), ('utama', 2), ('tinggal', 2), ('mungkin', 2), ('kompasom', 1), ('terminologi', 1), ('acu', 1), ('lahir', 1), ('an', 1), ('melek', 1), ('ikat', 1), ('tinggi', 1), ('sisi', 1), ('khusus', 1), ('alas', 1), ('melatarbelakangi', 1), ('enggan', 1), ('wakil', 1), ('ketua', 1), ('s', 1), ('gondokusumo', 1), ('kata', 1), ('kencenderungan', 1), ('anggap', 1), ('padahal', 1), ('iring', 1), ('inovasi', 1), ('kalang', 1), ('misi', 1), ('mustahil', 1), ('aku', 1), ('tantang', 1), ('yakni', 1), ('dana', 1), ('coba', 1), ('jawab', 1), ('jumlah', 1), ('mitos', 1), ('acara', 1), ('ngobrol', 1), ('bareng', 1), ('tema', 1), ('kapan', 1), ('hari', 1), ('kamis', 1), ('april', 1), ('promenade', 1), ('graha', 1), ('niaga', 1), ('thamrin', 1), ('pusat', 1), ('apartementtherapy', 1), ('tisik', 1), ('enam', 1), ('ogah', 1), ('cepat', 1), ('ketimbang', 1), ('sepenuh', 1), ('rencana', 1), ('tepat', 1), ('milik', 1), ('idam', 1), ('sadar', 1), ('beda', 1), ('banding', 1), ('pinggir', 1), ('perintah', 1), ('sedia', 1), ('pilihanpilihan', 1), ('program', 1), ('transit', 1), ('oriented', 1), ('development', 1), ('tod', 1), ('stasiun', 1), ('kereta', 1), ('listrik', 1), ('maupun', 1), ('mrt', 1), ('sesuai', 1), ('jenis', 1), ('likuid', 1), ('segera', 1), ('ubah', 1), ('kas', 1), ('waktu', 1), ('mesin', 1), ('timbang', 1), ('lokasi', 1), ('pasar', 1), ('golong', 1), ('aman', 1), ('cenderung', 1), ('stabil', 1), ('capai', 1), ('persen', 1), ('ingat', 1), ('letak', 1), ('konteks', 1), ('jangka', 1), ('panjang', 1), ('hanya', 1), ('arti', 1), ('jual', 1), ('mahal', 1), ('lanjut', 1), ('sewa', 1), ('koskosan', 1), ('ikut', 1), ('inap', 1), ('hutang', 1), ('risiko', 1), ('untung', 1), ('tawar', 1), ('lama', 1), ('gaji', 1), ('bayar', 1), ('cemas', 1), ('asal', 1), ('usaha', 1), ('itu', 1), ('andal', 1), ('jasa', 1), ('kpr', 1), ('kpa', 1), ('zaman', 1), ('sekarang', 1), ('para', 1), ('fasilitas', 1), ('urus', 1), ('dokumen', 1), ('hindar', 1), ('shutterstock', 1), ('putus', 1), ('anda', 1), ('tahu', 1), ('konsekuensi', 1), ('buruk', 1), ('jangan', 1), ('giur', 1), ('imingiming', 1), ('janjijanji', 1), ('jelas', 1), ('unit', 1), ('lampau', 1), ('murah', 1), ('diskon', 1), ('besarbesaran', 1), ('bisa', 1), ('kalau', 1), ('bingung', 1), ('edar', 1), ('datang', 1), ('sangkut', 1), ('cara', 1), ('langsung', 1), ('prinsip', 1), ('yolo', 1), ('you', 1), ('only', 1), ('live', 1), ('once', 1), ('rasa', 1), ('bagi', 1), ('adalah', 1), ('gaya', 1), ('fashion', 1), ('fb', 1), ('traveling', 1), ('didik', 1), ('komunitas', 1), ('wwwshutterstockcom', 1), ('tempat', 1), ('ada', 1), ('urut', 1), ('buncit', 1), ('wujud', 1), ('cuma', 1), ('sekali', 1), ('siap', 1), ('nyaman', 1), ('din', 1), ('mau', 1), ('kan', 1), ('umur', 1), ('meni', 1), ('orang', 1), ('tua', 1)]\n"
     ]
    }
   ],
   "source": [
    "#Import Sastrawi\n",
    "from Sastrawi.Stemmer.StemmerFactory import StemmerFactory\n",
    "\n",
    "factory = StemmerFactory()\n",
    "stemmer = factory.create_stemmer()\n",
    " \n",
    "kalimat = hasil_kk\n",
    "\n",
    "hasil = stemmer.stem(kalimat)\n",
    "\n",
    "hasil\n",
    "\n",
    "stop = stopword.remove(hasil)\n",
    "tokens = nltk.tokenize.word_tokenize(stop)\n",
    "tokens\n",
    "print(type(tokens))\n",
    "\n",
    "stemmed = nltk.FreqDist(tokens)\n",
    "\n",
    "print(stemmed.most_common())"
   ]
  }
 ],
 "metadata": {
  "interpreter": {
   "hash": "1995d498abb2e094550934aa5a77156bbeec41df4479993fce67cf5a474c2ebd"
  },
  "kernelspec": {
   "display_name": "Python 3.10.2 64-bit",
   "language": "python",
   "name": "python3"
  },
  "language_info": {
   "codemirror_mode": {
    "name": "ipython",
    "version": 3
   },
   "file_extension": ".py",
   "mimetype": "text/x-python",
   "name": "python",
   "nbconvert_exporter": "python",
   "pygments_lexer": "ipython3",
   "version": "3.10.2"
  },
  "orig_nbformat": 4
 },
 "nbformat": 4,
 "nbformat_minor": 2
}
