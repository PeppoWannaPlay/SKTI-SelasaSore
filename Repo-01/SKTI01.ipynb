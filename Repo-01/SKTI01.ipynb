{
 "cells": [
  {
   "cell_type": "markdown",
   "metadata": {},
   "source": [
    "Import Library dan Baca JSON"
   ]
  },
  {
   "cell_type": "code",
   "execution_count": null,
   "metadata": {},
   "outputs": [],
   "source": [
    "import pandas as pd\n",
    "import json\n",
    "import re\n",
    "import string\n",
    "import nltk\n",
    "#nltk.download('punkt')\n",
    "from nltk.tokenize import word_tokenize\n",
    "from Sastrawi.StopWordRemover.StopWordRemoverFactory import StopWordRemoverFactory\n",
    "# Import data JSON\n",
    "json_file_path = '1524416400000.kompas.e81873f891.json'\n",
    "\n",
    "\n",
    "# Read JSON data\n",
    "with open(json_file_path, \"r\", encoding='utf-8') as json_file:\n",
    "    data = json.load(json_file)\n",
    "\n",
    "# Lihat tipe data & data keys\n",
    "print(type(data))\n",
    "print(data.keys())\n",
    "\n"
   ]
  },
  {
   "cell_type": "markdown",
   "metadata": {},
   "source": [
    "Lakukan Preprocessing Data (belum stemming)"
   ]
  },
  {
   "cell_type": "code",
   "execution_count": null,
   "metadata": {},
   "outputs": [],
   "source": [
    "#Ambil content & seragamkan jadi lower case\n",
    "str_data = data['content'].lower()\n",
    "\n",
    "#Hapus angka\n",
    "hasil = re.sub(r\"\\d+\", \"\", str_data)\n",
    "\n",
    "#Hilangkan tanda baca\n",
    "hasil_tb = hasil.translate(str.maketrans(\"\",\"\",string.punctuation))\n",
    "\n",
    "#Hapus karakter kosong\n",
    "hasil_kk = hasil_tb.strip()\n",
    "\n",
    "#Tokenisasi tiap Kata\n",
    "##\n",
    "factory = StopWordRemoverFactory()\n",
    "stopword = factory.create_stop_word_remover()\n",
    "\n",
    "stop = stopword.remove(hasil_kk)\n",
    "tokens = nltk.tokenize.word_tokenize(stop)\n",
    "tokens\n",
    "print(type(tokens))\n",
    "\n",
    "unStemmed = nltk.FreqDist(tokens)\n",
    "print(unStemmed.most_common())"
   ]
  },
  {
   "cell_type": "markdown",
   "metadata": {},
   "source": [
    "Lakukan Stemming"
   ]
  },
  {
   "cell_type": "code",
   "execution_count": null,
   "metadata": {},
   "outputs": [],
   "source": [
    "#Import Sastrawi\n",
    "from Sastrawi.Stemmer.StemmerFactory import StemmerFactory\n",
    "\n",
    "factory = StemmerFactory()\n",
    "stemmer = factory.create_stemmer()\n",
    " \n",
    "kalimat = hasil_kk\n",
    "\n",
    "hasil = stemmer.stem(kalimat)\n",
    "\n",
    "hasil\n",
    "\n",
    "stop = stopword.remove(hasil)\n",
    "tokens = nltk.tokenize.word_tokenize(stop)\n",
    "tokens\n",
    "print(type(tokens))\n",
    "\n",
    "stemmed = nltk.FreqDist(tokens)\n",
    "\n",
    "print(stemmed.most_common())"
   ]
  }
 ],
 "metadata": {
  "interpreter": {
   "hash": "1995d498abb2e094550934aa5a77156bbeec41df4479993fce67cf5a474c2ebd"
  },
  "kernelspec": {
   "display_name": "Python 3.10.2 64-bit",
   "language": "python",
   "name": "python3"
  },
  "language_info": {
   "codemirror_mode": {
    "name": "ipython",
    "version": 3
   },
   "file_extension": ".py",
   "mimetype": "text/x-python",
   "name": "python",
   "nbconvert_exporter": "python",
   "pygments_lexer": "ipython3",
   "version": "3.10.2"
  },
  "orig_nbformat": 4
 },
 "nbformat": 4,
 "nbformat_minor": 2
}
