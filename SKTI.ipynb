{
 "cells": [
  {
   "cell_type": "code",
   "execution_count": 32,
   "metadata": {},
   "outputs": [
    {
     "name": "stdout",
     "output_type": "stream",
     "text": [
      "dict_keys(['url', 'date', 'title', 'content'])\n"
     ]
    },
    {
     "data": {
      "text/plain": [
       "'jakarta kompasom  milenial merupakan terminologi yang mengacu pada generasi kelahiran an generasi ini sangat melek dan mempunyai keterikatan tinggi terhadap teknologi tetapi di sisi lain masih belum melihat pentingnya berinvestasi khususnya investasi produk properti ada banyak alasan yang melatarbelakangi keengganan generasi milenial untuk membeli properti wakil ketua umum kadin indonesia bidang properti hendro s gondokusumo mengatakan ada kencenderungan generasi milenial menganggap membeli properti tidak penting padahal seiring dengan perkembangan inovasi di kalangan pengembang properti perbankan dan teknologi membeli atau berinvestasi properti bukanlah misi yang mustahil dia mengakui memang ada beberapa tantangan yang dihadapi generasi ini yakni proses ribet butuh dana besar dan lain sebagainya oleh karena itu kadin indonesia bidang properti mencoba menjawab sejumlah mitos itu melalui acara ngobrol properti bareng kadin indonesia dengan tema “kapan beli properti” pada hari kamis  april  di  promenade graha niaga thamrin jakarta pusat apartementtherapy hendro menelisik ada enam hal yang membuat generasi milenial ogah berinvestasi properti  butuh modal besar kenaikan harga rumah lebih cepat ketimbang kenaikan penghasilan hal ini tidak sepenuhnya salah tetapi sama seperti produk investasi lainnya membeli rumah mempunyai banyak pilihan skema pembiayaan hal terpenting yang harus dilakukan adalah membuat rencana keuangan yang tepat untuk dapat memiliki rumah yang diidamkan selain itu harus disadari bahwa membeli rumah di jakarta tentu berbeda harganya dibandingkan dengan membeli rumah di pinggiran jakarta yang lebih terjangkau pemerintah dan para pengembang juga menyediakan pilihanpilihan yang masih bisa dijangkau seperti program sejuta rumah atau produk transit oriented development tod di beberapa stasiun kereta listrik maupun mrt dengan harga terjangkau sesuai dengan jenis produk  rumah itu investasi yang tidak likuid rumah memang merupakan investasi yang tidak dapat segera diubah menjadi uang kas setiap saat butuh waktu agar sebuah properti bisa menjadi mesin uang dengan mempertimbangkan lokasinya dan harga pasar thinkstockphotoscom namun properti merupakan salah satu investasi yang tergolong aman dengan kenaikan harga yang cenderung stabil properti yang dibeli pada tahun  dengan harga rp  juta harganya saat ini bisa mencapai rp  juta atau naik sekitar  persen dalam  tahun yang harus diingat adalah investasi properti harus diletakkan dalam konteks jangka panjang investasi tidak hanya dapat diartikan membeli produk lalu menjualnya kembali dengan harga lebih mahal investasi bisa juga dilihat sebagai produk yang menghasilkan pendapatan berkelanjutan seperti membeli rumah untuk disewakan dijadikan koskosan atau mengikuti perkembangan teknologi saat ini rumah juga dapat dijadikan sebagai penginapan  takut berhutang sebelum membeli rumah penting untuk melihat risiko dan keuntungan yang ditawarkan oleh setiap pengembang dan bank thinkstockphotoscom selama milenial masih mempunyai gaji ketakutan tidak bisa membayar merupakan kecemasan yang tidak berasalan sama seperti memulai usaha membeli properti juga membutuhkan modal oleh karena itu tidak ada salahnya mengandalkan perbankan atau jasa pembiayaan lainnya melalui kpr atau kpa  prosesnya ribet zaman sekarang ini seharusnya tidak ada yang ribet dalam kehidupan begitu juga dengan membeli properti para pengembang pada umumnya sudah memfasilitasi berbagai macam pengurusan dokumen dalam pembelian properti  takut ditipu salah satu hal yang bisa dilakukan untuk menghindari penipuan adalah dengan memperbanyak informasi shutterstock ketika memutuskan untuk membeli rumah pastikan anda mengetahui berbagai macam skema dan konsekuensi terburuk dari sebuah pilihan jangan mudah tergiur dengan imingiming dan janjijanji tidak jelas seperti harga unit yang terlampau murah diskon besarbesaran dan lain sebagainya dengan internet informasi bisa didapatkan sangat mudah kalau masih bingung dengan informasi yang beredar di internet datangi pengembang dan bank bersangkutan secara langsung  prinsip yolo you only live once punya rumah dirasakan oleh sebagian besar milenial bukan kebutuhan utama kebutuhan utama mereka adalah gaya hidup seperti fashion fb traveling  pendidikan dan komunitas wwwshutterstockcom rumah dan tempat tinggal kemungkinan ada di urutan buncit atau bukan sesuatu yang penting untuk diwujudkan hidup cuma sekali dan mempersiapkan hidup nyaman harus dimulai sedini mungkin tidak mau kan sampai umur  tahun sudah menikah masih tinggal bersama orang tua'"
      ]
     },
     "execution_count": 32,
     "metadata": {},
     "output_type": "execute_result"
    }
   ],
   "source": [
    "import pandas as pd\n",
    "import json\n",
    "import re\n",
    "import string\n",
    "\n",
    "\n",
    "# Import data JSON\n",
    "json_file_path = '1524416400000.kompas.e81873f891.json'\n",
    "\n",
    "# Read JSON data\n",
    "with open(json_file_path, \"r\", encoding='utf-8') as json_file:\n",
    "    data = json.load(json_file)\n",
    "\n",
    "# Show data keys / nama elements JSON\n",
    "print(data.keys())\n",
    "str_data = data['content'].lower()\n",
    "\n",
    "#print(str_data)\n",
    "\n",
    "hasil = re.sub(r\"\\d+\", \"\", str_data)\n",
    "hasil = hasil.translate(str.maketrans(\"\",\"\",string.punctuation))\n",
    "hasil\n"
   ]
  }
 ],
 "metadata": {
  "interpreter": {
   "hash": "1995d498abb2e094550934aa5a77156bbeec41df4479993fce67cf5a474c2ebd"
  },
  "kernelspec": {
   "display_name": "Python 3.10.2 64-bit",
   "language": "python",
   "name": "python3"
  },
  "language_info": {
   "codemirror_mode": {
    "name": "ipython",
    "version": 3
   },
   "file_extension": ".py",
   "mimetype": "text/x-python",
   "name": "python",
   "nbconvert_exporter": "python",
   "pygments_lexer": "ipython3",
   "version": "3.10.2"
  },
  "orig_nbformat": 4
 },
 "nbformat": 4,
 "nbformat_minor": 2
}
